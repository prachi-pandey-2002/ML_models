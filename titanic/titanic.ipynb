{
 "cells": [
  {
   "cell_type": "code",
   "execution_count": 2,
   "metadata": {},
   "outputs": [],
   "source": [
    "import pandas as pd\n",
    "from matplotlib import pyplot as plt"
   ]
  },
  {
   "cell_type": "code",
   "execution_count": 3,
   "metadata": {},
   "outputs": [],
   "source": [
    "train = pd.read_csv('train.csv')\n",
    "test = pd.read_csv('test.csv')"
   ]
  },
  {
   "cell_type": "code",
   "execution_count": 4,
   "metadata": {},
   "outputs": [
    {
     "data": {
      "text/html": [
       "<div>\n",
       "<style scoped>\n",
       "    .dataframe tbody tr th:only-of-type {\n",
       "        vertical-align: middle;\n",
       "    }\n",
       "\n",
       "    .dataframe tbody tr th {\n",
       "        vertical-align: top;\n",
       "    }\n",
       "\n",
       "    .dataframe thead th {\n",
       "        text-align: right;\n",
       "    }\n",
       "</style>\n",
       "<table border=\"1\" class=\"dataframe\">\n",
       "  <thead>\n",
       "    <tr style=\"text-align: right;\">\n",
       "      <th></th>\n",
       "      <th>PassengerId</th>\n",
       "      <th>Survived</th>\n",
       "      <th>Pclass</th>\n",
       "      <th>Name</th>\n",
       "      <th>Sex</th>\n",
       "      <th>Age</th>\n",
       "      <th>SibSp</th>\n",
       "      <th>Parch</th>\n",
       "      <th>Ticket</th>\n",
       "      <th>Fare</th>\n",
       "      <th>Cabin</th>\n",
       "      <th>Embarked</th>\n",
       "    </tr>\n",
       "  </thead>\n",
       "  <tbody>\n",
       "    <tr>\n",
       "      <th>0</th>\n",
       "      <td>1</td>\n",
       "      <td>0</td>\n",
       "      <td>3</td>\n",
       "      <td>Braund, Mr. Owen Harris</td>\n",
       "      <td>male</td>\n",
       "      <td>22.0</td>\n",
       "      <td>1</td>\n",
       "      <td>0</td>\n",
       "      <td>A/5 21171</td>\n",
       "      <td>7.2500</td>\n",
       "      <td>NaN</td>\n",
       "      <td>S</td>\n",
       "    </tr>\n",
       "    <tr>\n",
       "      <th>1</th>\n",
       "      <td>2</td>\n",
       "      <td>1</td>\n",
       "      <td>1</td>\n",
       "      <td>Cumings, Mrs. John Bradley (Florence Briggs Th...</td>\n",
       "      <td>female</td>\n",
       "      <td>38.0</td>\n",
       "      <td>1</td>\n",
       "      <td>0</td>\n",
       "      <td>PC 17599</td>\n",
       "      <td>71.2833</td>\n",
       "      <td>C85</td>\n",
       "      <td>C</td>\n",
       "    </tr>\n",
       "    <tr>\n",
       "      <th>2</th>\n",
       "      <td>3</td>\n",
       "      <td>1</td>\n",
       "      <td>3</td>\n",
       "      <td>Heikkinen, Miss. Laina</td>\n",
       "      <td>female</td>\n",
       "      <td>26.0</td>\n",
       "      <td>0</td>\n",
       "      <td>0</td>\n",
       "      <td>STON/O2. 3101282</td>\n",
       "      <td>7.9250</td>\n",
       "      <td>NaN</td>\n",
       "      <td>S</td>\n",
       "    </tr>\n",
       "    <tr>\n",
       "      <th>3</th>\n",
       "      <td>4</td>\n",
       "      <td>1</td>\n",
       "      <td>1</td>\n",
       "      <td>Futrelle, Mrs. Jacques Heath (Lily May Peel)</td>\n",
       "      <td>female</td>\n",
       "      <td>35.0</td>\n",
       "      <td>1</td>\n",
       "      <td>0</td>\n",
       "      <td>113803</td>\n",
       "      <td>53.1000</td>\n",
       "      <td>C123</td>\n",
       "      <td>S</td>\n",
       "    </tr>\n",
       "    <tr>\n",
       "      <th>4</th>\n",
       "      <td>5</td>\n",
       "      <td>0</td>\n",
       "      <td>3</td>\n",
       "      <td>Allen, Mr. William Henry</td>\n",
       "      <td>male</td>\n",
       "      <td>35.0</td>\n",
       "      <td>0</td>\n",
       "      <td>0</td>\n",
       "      <td>373450</td>\n",
       "      <td>8.0500</td>\n",
       "      <td>NaN</td>\n",
       "      <td>S</td>\n",
       "    </tr>\n",
       "  </tbody>\n",
       "</table>\n",
       "</div>"
      ],
      "text/plain": [
       "   PassengerId  Survived  Pclass  \\\n",
       "0            1         0       3   \n",
       "1            2         1       1   \n",
       "2            3         1       3   \n",
       "3            4         1       1   \n",
       "4            5         0       3   \n",
       "\n",
       "                                                Name     Sex   Age  SibSp  \\\n",
       "0                            Braund, Mr. Owen Harris    male  22.0      1   \n",
       "1  Cumings, Mrs. John Bradley (Florence Briggs Th...  female  38.0      1   \n",
       "2                             Heikkinen, Miss. Laina  female  26.0      0   \n",
       "3       Futrelle, Mrs. Jacques Heath (Lily May Peel)  female  35.0      1   \n",
       "4                           Allen, Mr. William Henry    male  35.0      0   \n",
       "\n",
       "   Parch            Ticket     Fare Cabin Embarked  \n",
       "0      0         A/5 21171   7.2500   NaN        S  \n",
       "1      0          PC 17599  71.2833   C85        C  \n",
       "2      0  STON/O2. 3101282   7.9250   NaN        S  \n",
       "3      0            113803  53.1000  C123        S  \n",
       "4      0            373450   8.0500   NaN        S  "
      ]
     },
     "execution_count": 4,
     "metadata": {},
     "output_type": "execute_result"
    }
   ],
   "source": [
    "train.head()"
   ]
  },
  {
   "cell_type": "code",
   "execution_count": 9,
   "metadata": {},
   "outputs": [
    {
     "data": {
      "text/plain": [
       "(418, 11)"
      ]
     },
     "execution_count": 9,
     "metadata": {},
     "output_type": "execute_result"
    }
   ],
   "source": [
    "train.shape\n",
    "test.shape\n"
   ]
  },
  {
   "cell_type": "code",
   "execution_count": 8,
   "metadata": {},
   "outputs": [
    {
     "data": {
      "text/plain": [
       "0    549\n",
       "1    342\n",
       "Name: Survived, dtype: int64"
      ]
     },
     "execution_count": 8,
     "metadata": {},
     "output_type": "execute_result"
    }
   ],
   "source": [
    "train['Survived'].value_counts()"
   ]
  },
  {
   "cell_type": "code",
   "execution_count": 17,
   "metadata": {},
   "outputs": [
    {
     "data": {
      "image/png": "[encoded data removed]",
      "text/plain": [
       "<Figure size 360x360 with 1 Axes>"
      ]
     },
     "metadata": {
      "needs_background": "light"
     },
     "output_type": "display_data"
    }
   ],
   "source": [
    "plt.figure(figsize=(5,5))\n",
    "plt.bar(list(train['Survived'].value_counts().keys()),list(train['Survived'].value_counts()),color='r')\n",
    "plt.show()"
   ]
  },
  {
   "cell_type": "code",
   "execution_count": 20,
   "metadata": {},
   "outputs": [
    {
     "data": {
      "text/plain": [
       "3    491\n",
       "1    216\n",
       "2    184\n",
       "Name: Pclass, dtype: int64"
      ]
     },
     "execution_count": 20,
     "metadata": {},
     "output_type": "execute_result"
    }
   ],
   "source": [
    "train['Pclass'].value_counts()"
   ]
  },
  {
   "cell_type": "code",
   "execution_count": 19,
   "metadata": {},
   "outputs": [
    {
     "data": {
      "image/png": "[encoded data removed]",
      "text/plain": [
       "<Figure size 360x360 with 1 Axes>"
      ]
     },
     "metadata": {
      "needs_background": "light"
     },
     "output_type": "display_data"
    }
   ],
   "source": [
    "plt.figure(figsize=(5,5))\n",
    "plt.bar(list(train['Pclass'].value_counts().keys()),list(train['Pclass'].value_counts()),color='r')\n",
    "plt.show()"
   ]
  },
  {
   "cell_type": "code",
   "execution_count": 21,
   "metadata": {},
   "outputs": [
    {
     "data": {
      "text/plain": [
       "male      577\n",
       "female    314\n",
       "Name: Sex, dtype: int64"
      ]
     },
     "execution_count": 21,
     "metadata": {},
     "output_type": "execute_result"
    }
   ],
   "source": [
    "train['Sex'].value_counts()"
   ]
  },
  {
   "cell_type": "code",
   "execution_count": 22,
   "metadata": {},
   "outputs": [
    {
     "data": {
      "image/png": "[encoded data removed]",
      "text/plain": [
       "<Figure size 360x360 with 1 Axes>"
      ]
     },
     "metadata": {
      "needs_background": "light"
     },
     "output_type": "display_data"
    }
   ],
   "source": [
    "plt.figure(figsize=(5,5))\n",
    "plt.bar(list(train['Sex'].value_counts().keys()),list(train['Sex'].value_counts()),color='r')\n",
    "plt.show()"
   ]
  },
  {
   "cell_type": "code",
   "execution_count": 23,
   "metadata": {},
   "outputs": [
    {
     "data": {
      "image/png": "[encoded data removed]",
      "text/plain": [
       "<Figure size 360x504 with 1 Axes>"
      ]
     },
     "metadata": {
      "needs_background": "light"
     },
     "output_type": "display_data"
    }
   ],
   "source": [
    "plt.figure(figsize=(5,7))\n",
    "plt.hist(train['Age'])\n",
    "plt.title(\"Age distribution\")\n",
    "plt.xlabel(\"Age\")\n",
    "plt.show()"
   ]
  },
  {
   "cell_type": "code",
   "execution_count": 24,
   "metadata": {},
   "outputs": [
    {
     "data": {
      "text/plain": [
       "0"
      ]
     },
     "execution_count": 24,
     "metadata": {},
     "output_type": "execute_result"
    }
   ],
   "source": [
    "sum(train['Survived'].isnull())"
   ]
  },
  {
   "cell_type": "code",
   "execution_count": 25,
   "metadata": {},
   "outputs": [],
   "source": [
    "train = train.dropna()\n"
   ]
  },
  {
   "cell_type": "code",
   "execution_count": 63,
   "metadata": {},
   "outputs": [
    {
     "data": {
      "text/plain": [
       "86"
      ]
     },
     "execution_count": 63,
     "metadata": {},
     "output_type": "execute_result"
    }
   ],
   "source": [
    "sum(test['Age'].isnull())"
   ]
  },
  {
   "cell_type": "code",
   "execution_count": 64,
   "metadata": {},
   "outputs": [],
   "source": [
    "test = test.dropna()"
   ]
  },
  {
   "cell_type": "code",
   "execution_count": 26,
   "metadata": {},
   "outputs": [
    {
     "data": {
      "text/plain": [
       "(183, 12)"
      ]
     },
     "execution_count": 26,
     "metadata": {},
     "output_type": "execute_result"
    }
   ],
   "source": [
    "train.shape\n"
   ]
  },
  {
   "cell_type": "code",
   "execution_count": 65,
   "metadata": {},
   "outputs": [
    {
     "data": {
      "text/plain": [
       "(87, 11)"
      ]
     },
     "execution_count": 65,
     "metadata": {},
     "output_type": "execute_result"
    }
   ],
   "source": [
    "test.shape"
   ]
  },
  {
   "cell_type": "code",
   "execution_count": 27,
   "metadata": {},
   "outputs": [
    {
     "data": {
      "text/plain": [
       "<bound method DataFrame.info of      PassengerId  Survived  Pclass  \\\n",
       "1              2         1       1   \n",
       "3              4         1       1   \n",
       "6              7         0       1   \n",
       "10            11         1       3   \n",
       "11            12         1       1   \n",
       "..           ...       ...     ...   \n",
       "871          872         1       1   \n",
       "872          873         0       1   \n",
       "879          880         1       1   \n",
       "887          888         1       1   \n",
       "889          890         1       1   \n",
       "\n",
       "                                                  Name     Sex   Age  SibSp  \\\n",
       "1    Cumings, Mrs. John Bradley (Florence Briggs Th...  female  38.0      1   \n",
       "3         Futrelle, Mrs. Jacques Heath (Lily May Peel)  female  35.0      1   \n",
       "6                              McCarthy, Mr. Timothy J    male  54.0      0   \n",
       "10                     Sandstrom, Miss. Marguerite Rut  female   4.0      1   \n",
       "11                            Bonnell, Miss. Elizabeth  female  58.0      0   \n",
       "..                                                 ...     ...   ...    ...   \n",
       "871   Beckwith, Mrs. Richard Leonard (Sallie Monypeny)  female  47.0      1   \n",
       "872                           Carlsson, Mr. Frans Olof    male  33.0      0   \n",
       "879      Potter, Mrs. Thomas Jr (Lily Alexenia Wilson)  female  56.0      0   \n",
       "887                       Graham, Miss. Margaret Edith  female  19.0      0   \n",
       "889                              Behr, Mr. Karl Howell    male  26.0      0   \n",
       "\n",
       "     Parch    Ticket     Fare        Cabin Embarked  \n",
       "1        0  PC 17599  71.2833          C85        C  \n",
       "3        0    113803  53.1000         C123        S  \n",
       "6        0     17463  51.8625          E46        S  \n",
       "10       1   PP 9549  16.7000           G6        S  \n",
       "11       0    113783  26.5500         C103        S  \n",
       "..     ...       ...      ...          ...      ...  \n",
       "871      1     11751  52.5542          D35        S  \n",
       "872      0       695   5.0000  B51 B53 B55        S  \n",
       "879      1     11767  83.1583          C50        C  \n",
       "887      0    112053  30.0000          B42        S  \n",
       "889      0    111369  30.0000         C148        C  \n",
       "\n",
       "[183 rows x 12 columns]>"
      ]
     },
     "execution_count": 27,
     "metadata": {},
     "output_type": "execute_result"
    }
   ],
   "source": [
    "train.info\n"
   ]
  },
  {
   "cell_type": "code",
   "execution_count": 50,
   "metadata": {},
   "outputs": [],
   "source": [
    "from sklearn import preprocessing \n",
    "lbl = preprocessing.LabelEncoder()\n",
    "lbl1 = preprocessing.LabelEncoder()\n",
    "train['Sex'] = lbl.fit_transform(train['Sex'])\n",
    "test['Sex'] = lbl1.fit_transform(test['Sex'])\n",
    "\n"
   ]
  },
  {
   "cell_type": "code",
   "execution_count": 51,
   "metadata": {},
   "outputs": [
    {
     "data": {
      "text/plain": [
       "array([0, 1], dtype=int64)"
      ]
     },
     "execution_count": 51,
     "metadata": {},
     "output_type": "execute_result"
    }
   ],
   "source": [
    "train['Sex'].unique()"
   ]
  },
  {
   "cell_type": "code",
   "execution_count": 36,
   "metadata": {},
   "outputs": [],
   "source": [
    "x_train = train.loc[:,['Pclass','Age','Sex']].values"
   ]
  },
  {
   "cell_type": "code",
   "execution_count": 37,
   "metadata": {},
   "outputs": [
    {
     "data": {
      "text/plain": [
       "array([[ 1.  , 38.  ,  0.  ],\n",
       "       [ 1.  , 35.  ,  0.  ],\n",
       "       [ 1.  , 54.  ,  1.  ],\n",
       "       [ 3.  ,  4.  ,  0.  ],\n",
       "       [ 1.  , 58.  ,  0.  ],\n",
       "       [ 2.  , 34.  ,  1.  ],\n",
       "       [ 1.  , 28.  ,  1.  ],\n",
       "       [ 1.  , 19.  ,  1.  ],\n",
       "       [ 1.  , 49.  ,  0.  ],\n",
       "       [ 1.  , 65.  ,  1.  ],\n",
       "       [ 1.  , 45.  ,  1.  ],\n",
       "       [ 2.  , 29.  ,  0.  ],\n",
       "       [ 3.  , 25.  ,  1.  ],\n",
       "       [ 1.  , 23.  ,  0.  ],\n",
       "       [ 1.  , 46.  ,  1.  ],\n",
       "       [ 1.  , 71.  ,  1.  ],\n",
       "       [ 1.  , 23.  ,  1.  ],\n",
       "       [ 1.  , 21.  ,  1.  ],\n",
       "       [ 1.  , 47.  ,  1.  ],\n",
       "       [ 1.  , 24.  ,  1.  ],\n",
       "       [ 2.  , 32.5 ,  0.  ],\n",
       "       [ 1.  , 54.  ,  1.  ],\n",
       "       [ 1.  , 19.  ,  0.  ],\n",
       "       [ 1.  , 37.  ,  1.  ],\n",
       "       [ 1.  , 24.  ,  1.  ],\n",
       "       [ 2.  , 36.5 ,  1.  ],\n",
       "       [ 1.  , 22.  ,  0.  ],\n",
       "       [ 1.  , 61.  ,  1.  ],\n",
       "       [ 1.  , 56.  ,  1.  ],\n",
       "       [ 1.  , 50.  ,  0.  ],\n",
       "       [ 2.  ,  1.  ,  1.  ],\n",
       "       [ 2.  ,  3.  ,  1.  ],\n",
       "       [ 1.  , 44.  ,  0.  ],\n",
       "       [ 1.  , 58.  ,  0.  ],\n",
       "       [ 3.  ,  2.  ,  0.  ],\n",
       "       [ 1.  , 40.  ,  1.  ],\n",
       "       [ 1.  , 31.  ,  0.  ],\n",
       "       [ 1.  , 32.  ,  0.  ],\n",
       "       [ 1.  , 38.  ,  1.  ],\n",
       "       [ 1.  , 35.  ,  0.  ],\n",
       "       [ 1.  , 44.  ,  1.  ],\n",
       "       [ 1.  , 37.  ,  1.  ],\n",
       "       [ 3.  , 29.  ,  0.  ],\n",
       "       [ 1.  , 62.  ,  1.  ],\n",
       "       [ 1.  , 30.  ,  0.  ],\n",
       "       [ 1.  , 52.  ,  1.  ],\n",
       "       [ 1.  , 40.  ,  1.  ],\n",
       "       [ 1.  , 58.  ,  0.  ],\n",
       "       [ 1.  , 35.  ,  0.  ],\n",
       "       [ 1.  , 37.  ,  1.  ],\n",
       "       [ 1.  , 63.  ,  0.  ],\n",
       "       [ 1.  , 19.  ,  0.  ],\n",
       "       [ 2.  , 36.  ,  1.  ],\n",
       "       [ 1.  ,  2.  ,  0.  ],\n",
       "       [ 1.  , 50.  ,  0.  ],\n",
       "       [ 1.  ,  0.92,  1.  ],\n",
       "       [ 1.  , 17.  ,  0.  ],\n",
       "       [ 1.  , 30.  ,  0.  ],\n",
       "       [ 1.  , 24.  ,  0.  ],\n",
       "       [ 1.  , 18.  ,  0.  ],\n",
       "       [ 1.  , 31.  ,  0.  ],\n",
       "       [ 1.  , 40.  ,  0.  ],\n",
       "       [ 1.  , 36.  ,  0.  ],\n",
       "       [ 2.  , 36.  ,  0.  ],\n",
       "       [ 1.  , 16.  ,  0.  ],\n",
       "       [ 1.  , 45.5 ,  1.  ],\n",
       "       [ 1.  , 38.  ,  1.  ],\n",
       "       [ 1.  , 29.  ,  1.  ],\n",
       "       [ 1.  , 41.  ,  0.  ],\n",
       "       [ 1.  , 45.  ,  1.  ],\n",
       "       [ 2.  ,  2.  ,  1.  ],\n",
       "       [ 1.  , 24.  ,  0.  ],\n",
       "       [ 2.  , 24.  ,  0.  ],\n",
       "       [ 1.  , 22.  ,  0.  ],\n",
       "       [ 1.  , 60.  ,  0.  ],\n",
       "       [ 1.  , 24.  ,  0.  ],\n",
       "       [ 1.  , 25.  ,  1.  ],\n",
       "       [ 1.  , 27.  ,  1.  ],\n",
       "       [ 1.  , 36.  ,  1.  ],\n",
       "       [ 1.  , 23.  ,  0.  ],\n",
       "       [ 3.  , 24.  ,  0.  ],\n",
       "       [ 1.  , 33.  ,  0.  ],\n",
       "       [ 3.  , 32.  ,  1.  ],\n",
       "       [ 1.  , 28.  ,  1.  ],\n",
       "       [ 1.  , 50.  ,  1.  ],\n",
       "       [ 1.  , 14.  ,  0.  ],\n",
       "       [ 1.  , 64.  ,  1.  ],\n",
       "       [ 1.  ,  4.  ,  1.  ],\n",
       "       [ 1.  , 52.  ,  1.  ],\n",
       "       [ 1.  , 30.  ,  1.  ],\n",
       "       [ 1.  , 49.  ,  1.  ],\n",
       "       [ 1.  , 65.  ,  1.  ],\n",
       "       [ 1.  , 48.  ,  1.  ],\n",
       "       [ 1.  , 47.  ,  1.  ],\n",
       "       [ 2.  , 23.  ,  0.  ],\n",
       "       [ 1.  , 25.  ,  1.  ],\n",
       "       [ 1.  , 35.  ,  0.  ],\n",
       "       [ 1.  , 58.  ,  1.  ],\n",
       "       [ 1.  , 55.  ,  1.  ],\n",
       "       [ 1.  , 54.  ,  0.  ],\n",
       "       [ 1.  , 25.  ,  0.  ],\n",
       "       [ 1.  , 16.  ,  0.  ],\n",
       "       [ 1.  , 18.  ,  1.  ],\n",
       "       [ 1.  , 36.  ,  1.  ],\n",
       "       [ 1.  , 47.  ,  1.  ],\n",
       "       [ 2.  , 34.  ,  0.  ],\n",
       "       [ 1.  , 30.  ,  0.  ],\n",
       "       [ 1.  , 44.  ,  0.  ],\n",
       "       [ 1.  , 45.  ,  1.  ],\n",
       "       [ 1.  , 22.  ,  0.  ],\n",
       "       [ 1.  , 36.  ,  0.  ],\n",
       "       [ 1.  , 50.  ,  1.  ],\n",
       "       [ 1.  , 17.  ,  1.  ],\n",
       "       [ 1.  , 48.  ,  0.  ],\n",
       "       [ 1.  , 39.  ,  0.  ],\n",
       "       [ 1.  , 53.  ,  0.  ],\n",
       "       [ 1.  , 36.  ,  1.  ],\n",
       "       [ 1.  , 39.  ,  0.  ],\n",
       "       [ 1.  , 39.  ,  0.  ],\n",
       "       [ 1.  , 36.  ,  1.  ],\n",
       "       [ 1.  , 18.  ,  0.  ],\n",
       "       [ 1.  , 60.  ,  1.  ],\n",
       "       [ 1.  , 52.  ,  0.  ],\n",
       "       [ 1.  , 49.  ,  1.  ],\n",
       "       [ 1.  , 40.  ,  0.  ],\n",
       "       [ 2.  ,  4.  ,  0.  ],\n",
       "       [ 1.  , 42.  ,  1.  ],\n",
       "       [ 1.  , 61.  ,  1.  ],\n",
       "       [ 1.  , 21.  ,  0.  ],\n",
       "       [ 1.  , 80.  ,  1.  ],\n",
       "       [ 1.  , 32.  ,  1.  ],\n",
       "       [ 1.  , 24.  ,  0.  ],\n",
       "       [ 1.  , 48.  ,  1.  ],\n",
       "       [ 1.  , 56.  ,  1.  ],\n",
       "       [ 1.  , 58.  ,  1.  ],\n",
       "       [ 1.  , 47.  ,  1.  ],\n",
       "       [ 1.  , 31.  ,  1.  ],\n",
       "       [ 1.  , 36.  ,  1.  ],\n",
       "       [ 1.  , 27.  ,  1.  ],\n",
       "       [ 1.  , 15.  ,  0.  ],\n",
       "       [ 1.  , 31.  ,  1.  ],\n",
       "       [ 1.  , 49.  ,  1.  ],\n",
       "       [ 3.  , 42.  ,  1.  ],\n",
       "       [ 1.  , 18.  ,  0.  ],\n",
       "       [ 1.  , 35.  ,  1.  ],\n",
       "       [ 1.  , 42.  ,  1.  ],\n",
       "       [ 1.  , 24.  ,  0.  ],\n",
       "       [ 1.  , 48.  ,  1.  ],\n",
       "       [ 3.  , 19.  ,  1.  ],\n",
       "       [ 1.  , 38.  ,  0.  ],\n",
       "       [ 2.  , 27.  ,  0.  ],\n",
       "       [ 1.  , 27.  ,  1.  ],\n",
       "       [ 1.  , 29.  ,  0.  ],\n",
       "       [ 1.  , 35.  ,  1.  ],\n",
       "       [ 1.  , 36.  ,  1.  ],\n",
       "       [ 1.  , 21.  ,  0.  ],\n",
       "       [ 1.  , 70.  ,  1.  ],\n",
       "       [ 1.  , 19.  ,  1.  ],\n",
       "       [ 3.  ,  6.  ,  1.  ],\n",
       "       [ 1.  , 33.  ,  0.  ],\n",
       "       [ 1.  , 36.  ,  0.  ],\n",
       "       [ 1.  , 51.  ,  0.  ],\n",
       "       [ 2.  , 57.  ,  0.  ],\n",
       "       [ 1.  , 43.  ,  0.  ],\n",
       "       [ 1.  , 17.  ,  0.  ],\n",
       "       [ 1.  , 29.  ,  1.  ],\n",
       "       [ 1.  , 46.  ,  1.  ],\n",
       "       [ 1.  , 49.  ,  0.  ],\n",
       "       [ 1.  , 11.  ,  1.  ],\n",
       "       [ 1.  , 39.  ,  1.  ],\n",
       "       [ 1.  , 33.  ,  0.  ],\n",
       "       [ 1.  , 52.  ,  0.  ],\n",
       "       [ 3.  , 27.  ,  0.  ],\n",
       "       [ 1.  , 39.  ,  0.  ],\n",
       "       [ 1.  , 16.  ,  0.  ],\n",
       "       [ 1.  , 51.  ,  1.  ],\n",
       "       [ 1.  , 48.  ,  0.  ],\n",
       "       [ 1.  , 31.  ,  1.  ],\n",
       "       [ 1.  , 47.  ,  0.  ],\n",
       "       [ 1.  , 33.  ,  1.  ],\n",
       "       [ 1.  , 56.  ,  0.  ],\n",
       "       [ 1.  , 19.  ,  0.  ],\n",
       "       [ 1.  , 26.  ,  1.  ]])"
      ]
     },
     "execution_count": 37,
     "metadata": {},
     "output_type": "execute_result"
    }
   ],
   "source": [
    "x_train\n"
   ]
  },
  {
   "cell_type": "code",
   "execution_count": 38,
   "metadata": {},
   "outputs": [],
   "source": [
    "y_train = train.loc[:,['Survived']].values"
   ]
  },
  {
   "cell_type": "code",
   "execution_count": 39,
   "metadata": {},
   "outputs": [
    {
     "data": {
      "text/plain": [
       "array([[1],\n",
       "       [1],\n",
       "       [0],\n",
       "       [1],\n",
       "       [1],\n",
       "       [1],\n",
       "       [1],\n",
       "       [0],\n",
       "       [1],\n",
       "       [0],\n",
       "       [0],\n",
       "       [1],\n",
       "       [0],\n",
       "       [1],\n",
       "       [0],\n",
       "       [0],\n",
       "       [1],\n",
       "       [0],\n",
       "       [0],\n",
       "       [0],\n",
       "       [1],\n",
       "       [0],\n",
       "       [1],\n",
       "       [0],\n",
       "       [0],\n",
       "       [0],\n",
       "       [1],\n",
       "       [0],\n",
       "       [0],\n",
       "       [0],\n",
       "       [1],\n",
       "       [1],\n",
       "       [1],\n",
       "       [1],\n",
       "       [0],\n",
       "       [1],\n",
       "       [1],\n",
       "       [1],\n",
       "       [1],\n",
       "       [1],\n",
       "       [0],\n",
       "       [1],\n",
       "       [0],\n",
       "       [0],\n",
       "       [1],\n",
       "       [0],\n",
       "       [0],\n",
       "       [1],\n",
       "       [1],\n",
       "       [0],\n",
       "       [1],\n",
       "       [1],\n",
       "       [0],\n",
       "       [0],\n",
       "       [1],\n",
       "       [1],\n",
       "       [1],\n",
       "       [1],\n",
       "       [1],\n",
       "       [1],\n",
       "       [1],\n",
       "       [1],\n",
       "       [1],\n",
       "       [1],\n",
       "       [1],\n",
       "       [0],\n",
       "       [0],\n",
       "       [0],\n",
       "       [1],\n",
       "       [0],\n",
       "       [1],\n",
       "       [1],\n",
       "       [1],\n",
       "       [1],\n",
       "       [1],\n",
       "       [1],\n",
       "       [1],\n",
       "       [0],\n",
       "       [1],\n",
       "       [1],\n",
       "       [1],\n",
       "       [1],\n",
       "       [1],\n",
       "       [1],\n",
       "       [0],\n",
       "       [1],\n",
       "       [0],\n",
       "       [1],\n",
       "       [1],\n",
       "       [0],\n",
       "       [1],\n",
       "       [0],\n",
       "       [1],\n",
       "       [0],\n",
       "       [1],\n",
       "       [1],\n",
       "       [1],\n",
       "       [0],\n",
       "       [0],\n",
       "       [1],\n",
       "       [0],\n",
       "       [1],\n",
       "       [0],\n",
       "       [1],\n",
       "       [0],\n",
       "       [1],\n",
       "       [1],\n",
       "       [1],\n",
       "       [0],\n",
       "       [1],\n",
       "       [1],\n",
       "       [0],\n",
       "       [1],\n",
       "       [1],\n",
       "       [1],\n",
       "       [1],\n",
       "       [1],\n",
       "       [1],\n",
       "       [1],\n",
       "       [0],\n",
       "       [1],\n",
       "       [1],\n",
       "       [1],\n",
       "       [1],\n",
       "       [1],\n",
       "       [1],\n",
       "       [1],\n",
       "       [0],\n",
       "       [1],\n",
       "       [1],\n",
       "       [1],\n",
       "       [1],\n",
       "       [1],\n",
       "       [1],\n",
       "       [0],\n",
       "       [0],\n",
       "       [0],\n",
       "       [1],\n",
       "       [1],\n",
       "       [1],\n",
       "       [1],\n",
       "       [0],\n",
       "       [0],\n",
       "       [1],\n",
       "       [1],\n",
       "       [1],\n",
       "       [1],\n",
       "       [1],\n",
       "       [0],\n",
       "       [1],\n",
       "       [1],\n",
       "       [1],\n",
       "       [1],\n",
       "       [1],\n",
       "       [0],\n",
       "       [1],\n",
       "       [0],\n",
       "       [0],\n",
       "       [1],\n",
       "       [1],\n",
       "       [1],\n",
       "       [1],\n",
       "       [0],\n",
       "       [1],\n",
       "       [1],\n",
       "       [0],\n",
       "       [0],\n",
       "       [1],\n",
       "       [1],\n",
       "       [0],\n",
       "       [1],\n",
       "       [1],\n",
       "       [1],\n",
       "       [1],\n",
       "       [1],\n",
       "       [1],\n",
       "       [1],\n",
       "       [0],\n",
       "       [1],\n",
       "       [0],\n",
       "       [1],\n",
       "       [1],\n",
       "       [1]], dtype=int64)"
      ]
     },
     "execution_count": 39,
     "metadata": {},
     "output_type": "execute_result"
    }
   ],
   "source": [
    "y_train"
   ]
  },
  {
   "cell_type": "code",
   "execution_count": 54,
   "metadata": {},
   "outputs": [],
   "source": [
    "from sklearn.tree import DecisionTreeClassifier"
   ]
  },
  {
   "cell_type": "code",
   "execution_count": 55,
   "metadata": {},
   "outputs": [],
   "source": [
    "model = DecisionTreeClassifier(random_state = 0)"
   ]
  },
  {
   "cell_type": "code",
   "execution_count": 56,
   "metadata": {},
   "outputs": [
    {
     "data": {
      "text/plain": [
       "DecisionTreeClassifier(random_state=0)"
      ]
     },
     "execution_count": 56,
     "metadata": {},
     "output_type": "execute_result"
    }
   ],
   "source": [
    "model.fit(x_train,y_train)"
   ]
  },
  {
   "cell_type": "code",
   "execution_count": 66,
   "metadata": {},
   "outputs": [],
   "source": [
    "x_test = test.loc[:,['Pclass','Age','Sex']].values"
   ]
  },
  {
   "cell_type": "code",
   "execution_count": 67,
   "metadata": {},
   "outputs": [],
   "source": [
    "y_pred = model.predict(x_test)"
   ]
  },
  {
   "cell_type": "code",
   "execution_count": 68,
   "metadata": {},
   "outputs": [
    {
     "data": {
      "text/plain": [
       "array([1, 1, 1, 1, 0, 0, 1, 0, 1, 0, 1, 0, 1, 1, 0, 1, 1, 1, 1, 1, 0, 0,\n",
       "       1, 1, 0, 1, 1, 0, 1, 1, 0, 0, 1, 1, 1, 1, 0, 1, 1, 0, 1, 0, 1, 0,\n",
       "       1, 1, 0, 1, 0, 0, 1, 0, 0, 1, 0, 0, 0, 0, 1, 0, 0, 1, 0, 0, 1, 1,\n",
       "       0, 0, 1, 1, 0, 1, 0, 1, 1, 1, 0, 1, 1, 1, 1, 1, 1, 0, 0, 1, 1],\n",
       "      dtype=int64)"
      ]
     },
     "execution_count": 68,
     "metadata": {},
     "output_type": "execute_result"
    }
   ],
   "source": [
    "y_pred"
   ]
  },
  {
   "cell_type": "code",
   "execution_count": 70,
   "metadata": {},
   "outputs": [],
   "source": [
    "accuracy = model.score(x_test,y_pred)\n"
   ]
  },
  {
   "cell_type": "code",
   "execution_count": 71,
   "metadata": {},
   "outputs": [
    {
     "data": {
      "text/plain": [
       "100.0"
      ]
     },
     "execution_count": 71,
     "metadata": {},
     "output_type": "execute_result"
    }
   ],
   "source": [
    "accuracy*100"
   ]
  },
  {
   "cell_type": "code",
   "execution_count": 74,
   "metadata": {},
   "outputs": [],
   "source": [
    "pred =pd.DataFrame(y_pred)\n",
    "sub_df = pd.read_csv('gender_submission.csv')\n",
    "datasets = pd.concat([sub_df['PassengerId'],pred],axis = 1)\n",
    "datasets.columns = ['PassengerId','Survived']\n",
    "datasets.to_csv('gender_submission.csv',index = False)"
   ]
  },
  {
   "cell_type": "code",
   "execution_count": null,
   "metadata": {},
   "outputs": [],
   "source": []
  }
 ],
 "metadata": {
  "kernelspec": {
   "display_name": "Python 3",
   "language": "python",
   "name": "python3"
  },
  "language_info": {
   "codemirror_mode": {
    "name": "ipython",
    "version": 3
   },
   "file_extension": ".py",
   "mimetype": "text/x-python",
   "name": "python",
   "nbconvert_exporter": "python",
   "pygments_lexer": "ipython3",
   "version": "3.8.3"
  }
 },
 "nbformat": 4,
 "nbformat_minor": 4
}
